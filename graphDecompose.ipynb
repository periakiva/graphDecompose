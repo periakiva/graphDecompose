{
 "cells": [
  {
   "cell_type": "markdown",
   "metadata": {},
   "source": [
    "#  Peri Akiva, 169001030"
   ]
  },
  {
   "cell_type": "code",
   "execution_count": 8,
   "metadata": {},
   "outputs": [],
   "source": [
    "import os\n",
    "from collections import Counter\n",
    "import plotly.plotly as py\n",
    "import matplotlib.mlab as mlab\n",
    "from plotly.graph_objs import *\n",
    "import networkx as nx\n",
    "import pickle as p\n",
    "import matplotlib.pyplot as plt\n",
    "import pandas as pd"
   ]
  },
  {
   "cell_type": "markdown",
   "metadata": {},
   "source": [
    "# Data Preprocessing and Management"
   ]
  },
  {
   "cell_type": "code",
   "execution_count": 2,
   "metadata": {},
   "outputs": [],
   "source": [
    "def removeZero(path):\n",
    "    array=[]\n",
    "    with open(path) as f:\n",
    "        w,h = [int(x) for x in next(f).split()]\n",
    "        for line in f:\n",
    "            line = line.split()\n",
    "            if '0' not in line:\n",
    "                array.append(line)\n",
    "    #with open('edgelist.txt','w') as f:\n",
    "     #   f.write(str(array))\n",
    "    return array\n",
    "    \n",
    "def pickleGraph(path):\n",
    "    edges=removeZero(path)\n",
    "    G=nx.Graph()    \n",
    "    for i in edges:\n",
    "        try:\n",
    "            G.add_edge(i[0],i[1])\n",
    "        except:\n",
    "            continue\n",
    "    G.remove_edges_from(G.selfloop_edges())\n",
    "    nx.write_gpickle(G,\"graph.gpickle\")\n",
    "\n",
    "def loadGraphPickle():\n",
    "        return nx.read_gpickle(\"graph.gpickle\")"
   ]
  },
  {
   "cell_type": "markdown",
   "metadata": {},
   "source": [
    "# Graph Plotting"
   ]
  },
  {
   "cell_type": "code",
   "execution_count": null,
   "metadata": {},
   "outputs": [],
   "source": [
    "def plotGraph(G):\n",
    "    pos=nx.spring_layout(G)\n",
    "    dmin=1\n",
    "    ncenter=0\n",
    "    for n in pos:\n",
    "        x,y=pos[n]\n",
    "        d=(x-0.5)**2+(y-0.5)**2\n",
    "        if d<dmin:\n",
    "            ncenter=n\n",
    "            dmin=d\n",
    "    p=nx.single_source_shortest_path_length(G,ncenter)\n",
    "    nx.draw_networkx_edges(G,pos,nodelist=[ncenter],alpha=0.4)\n",
    "    nx.draw_networkx_nodes(G,pos,nodelist=p.keys(),node_size=20,node_color=p.values(),cmap=plt.cm.Reds_r)\n",
    "    #plt.draw()\n",
    "    plt.xlim(-.05,1.05)\n",
    "    plt.ylim(-.05,1.05)\n",
    "    plt.axis('off')\n",
    "    plt.show()\n",
    "\n",
    "def plotDegreeHist(G):\n",
    "    degreeSeq = sorted(nx.degree(G).values(),reverse=True)\n",
    "    dmax=max(degreeSeq)\n",
    "    plt.loglog(degreeSeq,'b-',marker='o')\n",
    "    plt.title(\"Degree rank plot\")\n",
    "    plt.ylabel(\"degree\")\n",
    "    plt.xlabel(\"rank\")\n",
    "    Gcc = sorted(nx.connected_component_subgraphs(G),key=len,reverse=True)[0]\n",
    "    pos = nx.spring_layout(Gcc)\n",
    "    #plt.axis('off')\n",
    "    nx.draw_networkx_nodes(Gcc,pos,node_size=20)\n",
    "    nx.draw_networkx_edges(Gcc,pos,alpha=0.4)\n",
    "    plt.show()\n",
    "\n",
    "def writeCoresNodes(SccPerCore):\n",
    "    #with open('nodePerCore.txt','w') as f:\n",
    "        #f.write(str(nodePerCoreDict))\n",
    "    with open('SccPerCore.txt','w') as f:\n",
    "        f.write(str(SccPerCore))\n",
    "        \n",
    "def findVerticesEdges(G):\n",
    "    vePerCore={}\n",
    "    SccPerCore={}\n",
    "    for i in xrange(1,18):\n",
    "        Gtemp = nx.k_core(G,k=i)\n",
    "        #vePerCore[i]=(Gtemp.number_of_nodes(),Gtemp.number_of_edges())\n",
    "        #SccPerCore[i]=nx.number_connected_components(Gtemp)\n",
    "        print SccPerCore[i]\n",
    "    return SccPerCore\n",
    "\n",
    "def plotDegree(dic):\n",
    "    maxVal=max(dic.keys())\n",
    "    bins = dic.keys()\n",
    "    plt.yscale('log')\n",
    "    width = bins[1] - bins[0]\n",
    "    print \"Maximum Degree: \" + str(maxVal)\n",
    "    plt.bar(dic.keys(),dic.values(),width=100)\n",
    "    plt.title('Degree vs Number of Vertices in each Degree')\n",
    "    plt.xlabel('Degree')\n",
    "    plt.ylabel('Number of Edges of Degree')\n",
    "    plt.show()\n",
    "    \n",
    "def plotCC(dic):\n",
    "    plt.yscale('log')\n",
    "    plt.bar(dic.keys(),dic.values(),width=1)\n",
    "    plt.title('NUmber of Connected Components vs NUmber of Vertices in Connected Components')\n",
    "    plt.xlabel('Number of Connected Components')\n",
    "    plt.ylabel('Number of Vertices in Connected Components')\n",
    "    plt.show()\n"
   ]
  },
  {
   "cell_type": "markdown",
   "metadata": {},
   "source": [
    "# Edge Decomposition"
   ]
  },
  {
   "cell_type": "code",
   "execution_count": 3,
   "metadata": {},
   "outputs": [],
   "source": [
    "def edgeDecomp(G):\n",
    "    edgePerLayer={}    \n",
    "    allEdges=set(G.edges())\n",
    "    while len(allEdges)>0:\n",
    "        Gtemp=nx.Graph()\n",
    "        Gtemp.add_edges_from(allEdges)\n",
    "        peelLayer=nx.core_number(Gtemp)\n",
    "        k=max(peelLayer.values())\n",
    "        edges={(u,v) for u,v in allEdges if peelLayer[u]==k and peelLayer[v]==k}\n",
    "        allEdges=allEdges.difference(edges)\n",
    "        print len(allEdges)\n",
    "        edgePerLayer[k]=edges\n",
    "    return edgePerLayer"
   ]
  },
  {
   "cell_type": "code",
   "execution_count": 196,
   "metadata": {},
   "outputs": [],
   "source": [
    "pathNodes=\"/home/native/projects/graphDecompose/can_citations.txt\"\n",
    "pathTest=\"/home/native/projects/graphDecompose/testGraph.txt\"\n",
    "pickleGraph(pathNodes)"
   ]
  },
  {
   "cell_type": "code",
   "execution_count": 4,
   "metadata": {},
   "outputs": [],
   "source": [
    "G = loadGraphPickle()"
   ]
  },
  {
   "cell_type": "markdown",
   "metadata": {},
   "source": [
    "# Complete Graph Visualization"
   ]
  },
  {
   "cell_type": "code",
   "execution_count": null,
   "metadata": {},
   "outputs": [],
   "source": [
    "plotGraph(G)\n",
    "#Attached image"
   ]
  },
  {
   "cell_type": "markdown",
   "metadata": {},
   "source": [
    "# K-core Decomposition"
   ]
  },
  {
   "cell_type": "code",
   "execution_count": null,
   "metadata": {},
   "outputs": [],
   "source": [
    "Gk = nx.k_core(G)\n",
    "nScc = nx.number_connected_components(G)\n",
    "coreN = nx.core_number(G)"
   ]
  },
  {
   "cell_type": "code",
   "execution_count": 31,
   "metadata": {},
   "outputs": [
    {
     "name": "stdout",
     "output_type": "stream",
     "text": [
      "Total Node: 1559666\n",
      "Total Edges: 7220605\n"
     ]
    }
   ],
   "source": [
    "print \"Total Node: \" + str(G.number_of_nodes())\n",
    "print \"Total Edges: \" + str(G.number_of_edges())"
   ]
  },
  {
   "cell_type": "code",
   "execution_count": null,
   "metadata": {},
   "outputs": [],
   "source": [
    "nodePerCore=dict(Counter(coreN.values()))\n",
    "del nodePerCore[0]"
   ]
  },
  {
   "cell_type": "code",
   "execution_count": 51,
   "metadata": {},
   "outputs": [
    {
     "name": "stdout",
     "output_type": "stream",
     "text": [
      "Core: Number of vertices:\n",
      "{1: 365863, 2: 237973, 3: 178756, 4: 140994, 5: 115637, 6: 94887, 7: 79772, 8: 66540, 9: 55080, 10: 46906, 11: 37611, 12: 32062, 13: 25598, 14: 20808, 15: 17572, 16: 14281, 17: 14596, 18: 13006}\n",
      "\n",
      "Max Core Number: 18\n"
     ]
    }
   ],
   "source": [
    "print \"Core: Number of vertices:\\n\" + str(nodePerCore)\n",
    "print \"\\nMax Core Number: \" + str(max(coreN.values()))"
   ]
  },
  {
   "cell_type": "code",
   "execution_count": 52,
   "metadata": {},
   "outputs": [],
   "source": [
    "degrees=G.degree()\n",
    "deg = dict(Counter(degrees.values()))\n",
    "del deg[0]"
   ]
  },
  {
   "cell_type": "code",
   "execution_count": 53,
   "metadata": {},
   "outputs": [
    {
     "name": "stdout",
     "output_type": "stream",
     "text": [
      "Maximum Degree: 7085\n"
     ]
    },
    {
     "data": {
      "image/png": "[encoded data removed]",
      "text/plain": [
       "<matplotlib.figure.Figure at 0x7f6c9eb5bf90>"
      ]
     },
     "metadata": {},
     "output_type": "display_data"
    }
   ],
   "source": [
    "plotDegree(deg)"
   ]
  },
  {
   "cell_type": "code",
   "execution_count": 55,
   "metadata": {},
   "outputs": [],
   "source": [
    "conComp = nx.connected_components(G)\n",
    "conComp = [len(c) for c in sorted(conComp, key=len, reverse=True)]\n",
    "compCount = dict(Counter(conComp))\n",
    "del compCount[max(compCount.keys())]\n"
   ]
  },
  {
   "cell_type": "code",
   "execution_count": 58,
   "metadata": {},
   "outputs": [
    {
     "name": "stdout",
     "output_type": "stream",
     "text": [
      "Number of  connected components and its frequency:\n",
      "{1: 1724, 2: 17178, 3: 4131, 4: 1478, 5: 633, 6: 323, 7: 177, 8: 91, 9: 56, 10: 38, 11: 29, 12: 13, 13: 21, 14: 10, 15: 6, 16: 5, 17: 4, 18: 4, 19: 2, 20: 2, 21: 1, 22: 3, 23: 1, 24: 2, 27: 2, 29: 1, 36: 1, 42: 1, 45: 2, 47: 1, 56: 1, 83: 1}\n"
     ]
    }
   ],
   "source": [
    "print \"Number of  connected components and its frequency:\\n\" + str(compCount)"
   ]
  },
  {
   "cell_type": "code",
   "execution_count": 247,
   "metadata": {},
   "outputs": [
    {
     "data": {
      "image/png": "[encoded data removed]",
      "text/plain": [
       "<matplotlib.figure.Figure at 0x7f9a71b5a610>"
      ]
     },
     "metadata": {},
     "output_type": "display_data"
    }
   ],
   "source": [
    "plotCC(compCount)"
   ]
  },
  {
   "cell_type": "code",
   "execution_count": 59,
   "metadata": {},
   "outputs": [
    {
     "name": "stdout",
     "output_type": "stream",
     "text": [
      "Overall Number of connected components: 25943\n"
     ]
    }
   ],
   "source": [
    "print \"Overall Number of connected components: \" + str(nScc)"
   ]
  },
  {
   "cell_type": "code",
   "execution_count": 6,
   "metadata": {},
   "outputs": [],
   "source": [
    "with open('laters.pkl','wb') as f:\n",
    "    p.dump(layers,f)"
   ]
  },
  {
   "cell_type": "code",
   "execution_count": null,
   "metadata": {},
   "outputs": [],
   "source": [
    "with open('laters.pkl','rb') as f:\n",
    "    layers=p.load(r)"
   ]
  },
  {
   "cell_type": "code",
   "execution_count": null,
   "metadata": {},
   "outputs": [],
   "source": [
    "layers = edgeDecomp(G)"
   ]
  },
  {
   "cell_type": "code",
   "execution_count": 60,
   "metadata": {},
   "outputs": [
    {
     "name": "stdout",
     "output_type": "stream",
     "text": [
      "Edge Decomposition Data \n",
      "Layer   Number of Edges\n",
      " 1         708612\n",
      " 2         580823\n",
      " 3         1251188\n",
      " 4         296900\n",
      " 5         999772\n",
      " 6         352608\n",
      " 7         771976\n",
      " 8         348821\n",
      " 9         538978\n",
      " 10         73677\n",
      " 11         2102\n",
      " 12         16960\n",
      " 13         960404\n",
      " 14         27929\n",
      " 15         72597\n",
      " 16         882\n",
      " 17         1236\n",
      " 18         215140\n"
     ]
    }
   ],
   "source": [
    "print \"Edge Decomposition Data \"\n",
    "print \"Layer   Number of Edges\"\n",
    "for i in layers.keys():\n",
    "    print \" \" + str(i) + \"         \" + str(len(layers[i]))"
   ]
  }
 ],
 "metadata": {
  "kernelspec": {
   "display_name": "Python 2",
   "language": "python",
   "name": "python2"
  },
  "language_info": {
   "codemirror_mode": {
    "name": "ipython",
    "version": 2
   },
   "file_extension": ".py",
   "mimetype": "text/x-python",
   "name": "python",
   "nbconvert_exporter": "python",
   "pygments_lexer": "ipython2",
   "version": "2.7.13"
  }
 },
 "nbformat": 4,
 "nbformat_minor": 2
}
